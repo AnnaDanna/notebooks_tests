{
 "cells": [
  {
   "cell_type": "code",
   "execution_count": 2,
   "metadata": {},
   "outputs": [],
   "source": [
    "imie = \"Anna\""
   ]
  },
  {
   "cell_type": "code",
   "execution_count": 3,
   "metadata": {},
   "outputs": [
    {
     "name": "stdout",
     "output_type": "stream",
     "text": [
      "A\n",
      "n\n",
      "n\n",
      "a\n"
     ]
    }
   ],
   "source": [
    "for letter in imie:\n",
    "    print(letter)\n"
   ]
  },
  {
   "cell_type": "code",
   "execution_count": 21,
   "metadata": {},
   "outputs": [
    {
     "name": "stdout",
     "output_type": "stream",
     "text": [
      "9.0\n"
     ]
    },
    {
     "data": {
      "text/plain": [
       "0.0"
      ]
     },
     "execution_count": 21,
     "metadata": {},
     "output_type": "execute_result"
    }
   ],
   "source": [
    "def przekatna(n): #zdefiniowanie funkcji ze zmiennna n - zmienna dla ilosci bokow\n",
    "        result = n*(n-3)/2 #deginicja dzialania funkcji\n",
    "        return result\n",
    "print(przekatna(6))\n",
    "przekatna(3) #podstawienie pod n liczby bokow"
   ]
  },
  {
   "cell_type": "code",
   "execution_count": 22,
   "metadata": {},
   "outputs": [],
   "source": [
    "a = 20\n",
    "b = 15"
   ]
  },
  {
   "cell_type": "code",
   "execution_count": 26,
   "metadata": {},
   "outputs": [
    {
     "name": "stdout",
     "output_type": "stream",
     "text": [
      "20 / 15 = 1.3333333333333333\n"
     ]
    }
   ],
   "source": [
    "d= print(\"{} / {} = {}\".format(a, b, a/b))"
   ]
  },
  {
   "cell_type": "code",
   "execution_count": 29,
   "metadata": {},
   "outputs": [
    {
     "data": {
      "text/plain": [
       "1.46"
      ]
     },
     "execution_count": 29,
     "metadata": {},
     "output_type": "execute_result"
    }
   ],
   "source": [
    "d = 1.456\n",
    "round(d, 2)"
   ]
  },
  {
   "cell_type": "code",
   "execution_count": 34,
   "metadata": {},
   "outputs": [
    {
     "name": "stdout",
     "output_type": "stream",
     "text": [
      "dziwności\n"
     ]
    }
   ],
   "source": [
    "x = 1.5\n",
    "if x > 10 and x < 20:\n",
    "        print(\"nie poprawny\")\n",
    "elif x>= 10 or x >= 20:\n",
    "        print(\"tak zgada sie\")\n",
    "else:\n",
    "    print(\"dziwności\")"
   ]
  },
  {
   "cell_type": "code",
   "execution_count": 35,
   "metadata": {},
   "outputs": [],
   "source": [
    "\n",
    "a =       [10, 20, 30, 40, 50]\n",
    "# indeksy  0   1   2   3   4"
   ]
  },
  {
   "cell_type": "code",
   "execution_count": 36,
   "metadata": {},
   "outputs": [
    {
     "data": {
      "text/plain": [
       "50"
      ]
     },
     "execution_count": 36,
     "metadata": {},
     "output_type": "execute_result"
    }
   ],
   "source": [
    "a[-1]  # indeks może być ujemny - liczony jest od końca listy (-1 to ostatni element, -2 przedostatni itd)"
   ]
  },
  {
   "cell_type": "code",
   "execution_count": 41,
   "metadata": {},
   "outputs": [
    {
     "data": {
      "text/plain": [
       "[7, 2, 15, -1, 11, 4]"
      ]
     },
     "execution_count": 41,
     "metadata": {},
     "output_type": "execute_result"
    }
   ],
   "source": [
    "a = [7, 2, 15, -1, 11, 4]\n",
    "a[:] "
   ]
  },
  {
   "cell_type": "code",
   "execution_count": 61,
   "metadata": {},
   "outputs": [],
   "source": [
    "a= [elem for elem in a if elem > 10]"
   ]
  },
  {
   "cell_type": "code",
   "execution_count": 62,
   "metadata": {},
   "outputs": [
    {
     "name": "stdout",
     "output_type": "stream",
     "text": [
      "[15, 11]\n"
     ]
    }
   ],
   "source": [
    "print(a)"
   ]
  },
  {
   "cell_type": "code",
   "execution_count": 64,
   "metadata": {},
   "outputs": [
    {
     "name": "stdout",
     "output_type": "stream",
     "text": [
      "15\n",
      "11\n"
     ]
    }
   ],
   "source": [
    "for elem in a:\n",
    "    print(elem)"
   ]
  },
  {
   "cell_type": "code",
   "execution_count": 67,
   "metadata": {},
   "outputs": [
    {
     "data": {
      "text/plain": [
       "[7, 2, 15, -1, 11, 4]"
      ]
     },
     "execution_count": 67,
     "metadata": {},
     "output_type": "execute_result"
    }
   ],
   "source": [
    "c = [7, 2, 15, -1, 11, 4]\n",
    "c[:]"
   ]
  },
  {
   "cell_type": "code",
   "execution_count": 93,
   "metadata": {},
   "outputs": [
    {
     "name": "stdout",
     "output_type": "stream",
     "text": [
      "[7, 15, 11]\n"
     ]
    }
   ],
   "source": [
    "def find_larger_than_x(z):\n",
    "    result = [elem for elem in c if elem > z]\n",
    "    return result\n",
    "print(find_larger_than_x(5))\n",
    "d = find_larger_than_x(5)\n"
   ]
  },
  {
   "cell_type": "code",
   "execution_count": 94,
   "metadata": {},
   "outputs": [
    {
     "data": {
      "text/plain": [
       "[7, 15, 11]"
      ]
     },
     "execution_count": 94,
     "metadata": {},
     "output_type": "execute_result"
    }
   ],
   "source": [
    "d[:]"
   ]
  },
  {
   "cell_type": "code",
   "execution_count": 95,
   "metadata": {},
   "outputs": [
    {
     "name": "stdout",
     "output_type": "stream",
     "text": [
      "7\n",
      "15\n",
      "11\n"
     ]
    }
   ],
   "source": [
    "for elem in d: \n",
    "    print (elem)"
   ]
  },
  {
   "cell_type": "code",
   "execution_count": 96,
   "metadata": {},
   "outputs": [
    {
     "data": {
      "text/plain": [
       "[0, 1, 2, 3, 4]"
      ]
     },
     "execution_count": 96,
     "metadata": {},
     "output_type": "execute_result"
    }
   ],
   "source": [
    "# zadanie z hello world \n",
    "list(range(5))"
   ]
  },
  {
   "cell_type": "code",
   "execution_count": 476,
   "metadata": {},
   "outputs": [
    {
     "name": "stdout",
     "output_type": "stream",
     "text": [
      "0 Hello World!\n",
      "1 Hello World!\n",
      "2 Hello World!\n"
     ]
    }
   ],
   "source": [
    "def liczba_wypisan(z):\n",
    "    result = list(range(z))\n",
    "    for i in result:  #dla każdego elementu w tej liscie (result - zmiennej)\n",
    "        print (i, \"Hello World!\")\n",
    "liczba_wypisan(3)"
   ]
  },
  {
   "cell_type": "code",
   "execution_count": 118,
   "metadata": {},
   "outputs": [
    {
     "data": {
      "text/plain": [
       "3"
      ]
     },
     "execution_count": 118,
     "metadata": {},
     "output_type": "execute_result"
    }
   ],
   "source": [
    "g = [1, 2, 3, -1, 10, 0]\n",
    "q = sorted(g)\n",
    "q[-2]"
   ]
  },
  {
   "cell_type": "code",
   "execution_count": 122,
   "metadata": {},
   "outputs": [],
   "source": [
    "def druga_najwieksza(a): \n",
    "    b = sorted(a)\n",
    "    print(b[-2])"
   ]
  },
  {
   "cell_type": "code",
   "execution_count": 123,
   "metadata": {},
   "outputs": [
    {
     "name": "stdout",
     "output_type": "stream",
     "text": [
      "8\n"
     ]
    }
   ],
   "source": [
    "druga_najwieksza([1,-5,6,8,9,-100])"
   ]
  },
  {
   "cell_type": "code",
   "execution_count": 156,
   "metadata": {},
   "outputs": [],
   "source": [
    "def powitanie(imie):\n",
    "    result = \"Witaj \" + imie + \".\" + \" Twoje imie ma \"+ str(len(imie)) + \" znaków.\"\n",
    "    print(result)\n",
    "    "
   ]
  },
  {
   "cell_type": "code",
   "execution_count": 148,
   "metadata": {},
   "outputs": [
    {
     "name": "stdout",
     "output_type": "stream",
     "text": [
      "Witaj Anna. Twoje imie ma 4 znaków.\n"
     ]
    }
   ],
   "source": [
    "powitanie(\"Anna\")"
   ]
  },
  {
   "cell_type": "code",
   "execution_count": 158,
   "metadata": {},
   "outputs": [
    {
     "name": "stdout",
     "output_type": "stream",
     "text": [
      "Witaj Ania. Twoje imie ma 4 znaków.\n"
     ]
    }
   ],
   "source": [
    "def witaj(x):\n",
    "    result = (\"Witaj {}. Twoje imie ma {} znaków.\".format(x, str(len(x))))\n",
    "    print(result)\n",
    "imie = \"Ania\"\n",
    "witaj(imie)"
   ]
  },
  {
   "cell_type": "code",
   "execution_count": 353,
   "metadata": {},
   "outputs": [
    {
     "name": "stdout",
     "output_type": "stream",
     "text": [
      "None\n"
     ]
    }
   ],
   "source": [
    "def two_chars(z): # - sprawdzenie warunku czy nie zmienia sie wielkosc znakow \n",
    "    if len(z) < 2:\n",
    "        print (\"\")\n",
    "    else:\n",
    "        result = (z)[0:2] + (z)[-2:]\n",
    "print(two_chars(\"Marzena\"))"
   ]
  },
  {
   "cell_type": "code",
   "execution_count": 355,
   "metadata": {},
   "outputs": [
    {
     "name": "stdout",
     "output_type": "stream",
     "text": [
      "Liczba parzystych:3\n",
      "Liczba nieparzystych:1\n"
     ]
    }
   ],
   "source": [
    "def calculate_even_odd(k):\n",
    "    y = 0 #deklaracja zmiennej o ktora bede podnosic \n",
    "    for s in k:\n",
    "        if s % 2 == 0: \n",
    "            y = y + 1\n",
    "    print(\"Liczba parzystych:\" + str(y))\n",
    "    print(\"Liczba nieparzystych:\" + str(len(k)- y))\n",
    "\n",
    "calculate_even_odd([2,113,2,2])\n",
    "\n",
    "        \n",
    "      "
   ]
  },
  {
   "cell_type": "code",
   "execution_count": 356,
   "metadata": {},
   "outputs": [
    {
     "name": "stdout",
     "output_type": "stream",
     "text": [
      "*\n",
      "**\n",
      "***\n",
      "****\n",
      "*****\n",
      "******\n",
      "*******\n",
      "********\n",
      "*********\n",
      "**********\n",
      "***********\n",
      "************\n",
      "*************\n",
      "************\n",
      "***********\n",
      "**********\n",
      "*********\n",
      "********\n",
      "*******\n",
      "******\n",
      "*****\n",
      "****\n",
      "***\n",
      "**\n",
      "*\n"
     ]
    }
   ],
   "source": [
    "def dell(x):\n",
    "    for i in range(x):\n",
    "        print(\"*\"*(i+1))\n",
    "    for i in range(x-1, 0, -1):\n",
    "        print(\"*\"*(i))\n",
    "    \n",
    "dell(13)"
   ]
  },
  {
   "cell_type": "code",
   "execution_count": 273,
   "metadata": {},
   "outputs": [
    {
     "name": "stdout",
     "output_type": "stream",
     "text": [
      "$oar\n"
     ]
    }
   ],
   "source": [
    "def replace_letters(j):\n",
    "    c = j[:1]\n",
    "    result = j.replace(c, '$')\n",
    "    return print(result)\n",
    "replace_letters(\"Roar\")\n",
    "\n",
    "    "
   ]
  },
  {
   "cell_type": "code",
   "execution_count": null,
   "metadata": {},
   "outputs": [],
   "source": [
    "def replace_l(s):\n",
    "    if s not []\n",
    "    "
   ]
  },
  {
   "cell_type": "code",
   "execution_count": 291,
   "metadata": {},
   "outputs": [
    {
     "data": {
      "text/plain": [
       "'roa$'"
      ]
     },
     "execution_count": 291,
     "metadata": {},
     "output_type": "execute_result"
    }
   ],
   "source": [
    "def replace_letters(j):\n",
    "    c = j[0]\n",
    "    result = j.replace(c, '$')\n",
    "    result2 = result[1:]\n",
    "    return c+result2\n",
    "replace_letters(\"roar\")"
   ]
  },
  {
   "cell_type": "code",
   "execution_count": 325,
   "metadata": {},
   "outputs": [
    {
     "data": {
      "text/plain": [
       "'OT TSEJ ENWIZD'"
      ]
     },
     "execution_count": 325,
     "metadata": {},
     "output_type": "execute_result"
    }
   ],
   "source": [
    "def reverse_words(z): #\n",
    "    result = z.split(' ')\n",
    "    d = []\n",
    "    for f in result:\n",
    "        result2 = ''.join(reversed(f))\n",
    "        d.append(result2)\n",
    "    return (' '.join(d))\n",
    "reverse_words(\"TO JEST DZIWNE\")"
   ]
  },
  {
   "cell_type": "code",
   "execution_count": 357,
   "metadata": {},
   "outputs": [
    {
     "ename": "SyntaxError",
     "evalue": "invalid syntax (<ipython-input-357-68a14ac8eaaa>, line 2)",
     "output_type": "error",
     "traceback": [
      "\u001b[0;36m  File \u001b[0;32m\"<ipython-input-357-68a14ac8eaaa>\"\u001b[0;36m, line \u001b[0;32m2\u001b[0m\n\u001b[0;31m    returtn ' '.join([''.join(word[::-1] fort word in s.split())])\u001b[0m\n\u001b[0m              ^\u001b[0m\n\u001b[0;31mSyntaxError\u001b[0m\u001b[0;31m:\u001b[0m invalid syntax\n"
     ]
    }
   ],
   "source": [
    "def reverse_w(s):\n",
    "    returtn ' '.join([''.join(word[::-1] fort word in s.split())])\n",
    "reverse_w(\"GDZIE JEST ZIEMIA\")"
   ]
  },
  {
   "cell_type": "code",
   "execution_count": 351,
   "metadata": {},
   "outputs": [
    {
     "name": "stdout",
     "output_type": "stream",
     "text": [
      "Hasło poprawne\n"
     ]
    }
   ],
   "source": [
    "def is_valid_password(f):\n",
    "    litery_male = False\n",
    "    litery_duze = False\n",
    "    znaki_specjalne = False\n",
    "    cyfry = False\n",
    "    for letter in f:\n",
    "        if letter >= \"a\" and letter <= \"z\": \n",
    "            litery_male = True\n",
    "        if letter >= \"A\" and letter <= \"Z\":\n",
    "            litery_duze = True\n",
    "        if letter >= \"0\"  and letter <= \"9\":\n",
    "            cyfry = True\n",
    "        if letter =='$' or letter == '#' or letter =='@':\n",
    "            znaki_specjalne = True \n",
    "    if (\n",
    "        litery_male == True and \n",
    "        litery_duze == True and \n",
    "        cyfry == True and \n",
    "        znaki_specjalne == True and\n",
    "    len(f) >=6 and len(f)<= 16   \n",
    "    ):\n",
    "        print(\"Hasło poprawne\")\n",
    "    else: \n",
    "        print(\"Hasło niezgodne\")\n",
    "is_valid_password(\"abCDh10$\")\n",
    "    "
   ]
  },
  {
   "cell_type": "code",
   "execution_count": 407,
   "metadata": {},
   "outputs": [
    {
     "data": {
      "text/plain": [
       "{0, 1}"
      ]
     },
     "execution_count": 407,
     "metadata": {},
     "output_type": "execute_result"
    }
   ],
   "source": [
    "#sety\n",
    "def get_common_itemsf(v,b):\n",
    "    v = set(v)\n",
    "    b = set(b)\n",
    "    return v & b\n",
    "get_common_itemsf([0,1,2,3], [0,1,5,4])"
   ]
  },
  {
   "cell_type": "code",
   "execution_count": 413,
   "metadata": {},
   "outputs": [
    {
     "name": "stdout",
     "output_type": "stream",
     "text": [
      "c\n",
      "allegro\n",
      "gogkiel\n"
     ]
    }
   ],
   "source": [
    "#klucze\n",
    "def wskaz_klucz_wartosc(z,d):\n",
    "    z = dict(z)\n",
    "    for key in  z:\n",
    "        if(z[key]) > 15:\n",
    "            print(key)\n",
    "wskaz_klucz_wartosc({\"a\":10, \"c\":20, \"allegro\":100, \"ebay\": -1, \"gogkiel\": 140}, 15)"
   ]
  },
  {
   "cell_type": "code",
   "execution_count": 416,
   "metadata": {},
   "outputs": [
    {
     "data": {
      "text/plain": [
       "{'a': 300, 'b': 700, 'c': 500, 'd': 600}"
      ]
     },
     "execution_count": 416,
     "metadata": {},
     "output_type": "execute_result"
    }
   ],
   "source": [
    "#dodawanie wartosci w slowniku do odpowiednich kluczy\n",
    "def dod_waratosci(z,x):\n",
    "    result = z.copy()\n",
    "    for key in x: \n",
    "        if key in result:\n",
    "            result[key] = result[key] + x[key]\n",
    "        else: \n",
    "            result[key] = x[key]\n",
    "    return result\n",
    "dod_waratosci({'a': 100, 'b': 300, 'c': 500}, {'a': 200, 'b': 400, 'd': 600})\n",
    "\n",
    "        \n",
    "    \n",
    "            "
   ]
  },
  {
   "cell_type": "code",
   "execution_count": 429,
   "metadata": {},
   "outputs": [
    {
     "data": {
      "text/plain": [
       "{'a': 1, 'b': 2, 'c': 3, 'd': 4}"
      ]
     },
     "execution_count": 429,
     "metadata": {},
     "output_type": "execute_result"
    }
   ],
   "source": [
    "def konwersja_na_slownik(map1, map2):\n",
    "#map1 = [1,2,3,4]\n",
    "#map2 = ['a', 'b', 'c', 'd']\n",
    "    s = dict()\n",
    "    for i, a in enumerate(map2):\n",
    "        s[a] = map1[i]\n",
    "    return s\n",
    "konwersja_na_slownik([1,2,3,4], ['a', 'b', 'c', 'd'])\n",
    "    \n",
    "    "
   ]
  },
  {
   "cell_type": "code",
   "execution_count": 456,
   "metadata": {},
   "outputs": [
    {
     "data": {
      "text/plain": [
       "3.0"
      ]
     },
     "execution_count": 456,
     "metadata": {},
     "output_type": "execute_result"
    }
   ],
   "source": [
    "#stworzenie funkcj ktora bedzie liczyla srednia arytmetyczna\n",
    "def get_avg(*args):\n",
    "    s = 0\n",
    "    s = sum(args)/len(args)\n",
    "    return s\n",
    "get_avg(1,2,3,4,5)"
   ]
  },
  {
   "cell_type": "code",
   "execution_count": 483,
   "metadata": {},
   "outputs": [
    {
     "name": "stdout",
     "output_type": "stream",
     "text": [
      "{'ALA': 1, 'MA': 1, 'PSA': 1, 'i': 2, 'KOTA': 1, 'ŚWINIE': 1}\n"
     ]
    }
   ],
   "source": [
    "# liczenie ilosci wystapien w stringu \n",
    "def word_count(str):\n",
    "    liczba = dict() #słownik (zamiana na slownik)\n",
    "    zdanie = str.split()\n",
    "    for slowo in zdanie:\n",
    "        if slowo not in liczba:\n",
    "            liczba[slowo] = 1\n",
    "        else:\n",
    "            liczba[slowo] += 1\n",
    "    return liczba\n",
    "print(word_count('ALA MA PSA i KOTA i ŚWINIE'))"
   ]
  },
  {
   "cell_type": "code",
   "execution_count": 505,
   "metadata": {},
   "outputs": [
    {
     "name": "stdout",
     "output_type": "stream",
     "text": [
      "[('i', 2), ('ALA', 1), ('MA', 1)]\n"
     ]
    }
   ],
   "source": [
    "# rozbijanie sorted(a, key=lambda x: x[1]) list(d3.items())\n",
    "def get_top_words(text):\n",
    "    liczba = dict() #słownik (zamiana na slownik)\n",
    "    zdanie = text.split()\n",
    "    for slowo in zdanie:\n",
    "        if slowo not in liczba:\n",
    "            liczba[slowo] = 1\n",
    "        else:\n",
    "            liczba[slowo] += 1\n",
    "    lista = liczba.items()\n",
    "    posortowane = sorted(lista, key=lambda x:x[1],  reverse = True)\n",
    "    return posortowane[:3]\n",
    "print(get_top_words('ALA MA PSA i KOTA i ŚWINIE'))\n",
    "\n",
    "\n"
   ]
  },
  {
   "cell_type": "code",
   "execution_count": 5,
   "metadata": {},
   "outputs": [
    {
     "name": "stdout",
     "output_type": "stream",
     "text": [
      "19.625\n",
      "15.700000000000001\n"
     ]
    }
   ],
   "source": [
    "# circle - zadanie # metoda to funkcja zdefiniowana w klasie \n",
    "class circle:\n",
    "    def __init__(self, d):\n",
    "        self.d = d\n",
    "        \n",
    "    def pole(self):\n",
    "        pole_ = (3.14*(self.d/2)**2) # nalezy podac z self aby wiedział skad ma wziac zmienna \n",
    "        return pole_\n",
    "    def obwod(self):\n",
    "        obwod = 3.14 * self.d # nalezy podac z self aby wiedzial skad ma wziac zmienna\n",
    "        return obwod\n",
    "\n",
    "kolo = circle(5) # musze przypisac do klasy circel wartosc (nowa zmienna to kolo)\n",
    "print(kolo.pole())\n",
    "print(kolo.obwod())"
   ]
  },
  {
   "cell_type": "code",
   "execution_count": null,
   "metadata": {},
   "outputs": [],
   "source": []
  },
  {
   "cell_type": "code",
   "execution_count": 31,
   "metadata": {},
   "outputs": [
    {
     "name": "stdout",
     "output_type": "stream",
     "text": [
      "None\n",
      "{'Ania': 4}\n",
      "{'Ania': 4, 'Jula': 50}\n",
      "{'Ania': 4, 'Jula': 50, 'Mateusz': 5, 'Jacek': 15}\n",
      "15\n",
      "None\n",
      "{'Ania': 4, 'Mateusz': 5, 'Jacek': 15}\n"
     ]
    }
   ],
   "source": [
    "# kolejne z klasa\n",
    "class Database:\n",
    "    def __init__(self):\n",
    "        self.k = dict()\n",
    "        \n",
    "    def add(self, imie, wiek):\n",
    "        self.k[imie] = wiek\n",
    "\n",
    "\n",
    "    def search(self, imie):\n",
    "            self.k.get(imie)\n",
    "            return(self.k.get(imie))\n",
    "        \n",
    "    def list_(self):\n",
    "        return(self.k)\n",
    "    \n",
    "    def remove(self, key):\n",
    "        if key in self.k:\n",
    "            del self.k[key]\n",
    "\n",
    "\n",
    "szukanie = Database()\n",
    "print(szukanie.search(\"Mateusz\"))\n",
    "\n",
    "dodanie = Database()\n",
    "dodanie.add(\"Ania\", 4)\n",
    "print(dodanie.k)\n",
    "dodanie.add(\"Jula\", 50)\n",
    "print(podane_imie.k)\n",
    "dodanie.add(\"Mateusz\", 5)\n",
    "dodanie.add(\"Jacek\", 15)\n",
    "print(dodanie.k)\n",
    "print(dodanie.search(\"Jacek\"))\n",
    "print(dodanie.remove(\"Jula\"))\n",
    "print(dodanie.k)"
   ]
  },
  {
   "cell_type": "code",
   "execution_count": 32,
   "metadata": {},
   "outputs": [],
   "source": [
    "import math"
   ]
  },
  {
   "cell_type": "code",
   "execution_count": 33,
   "metadata": {},
   "outputs": [
    {
     "data": {
      "text/plain": [
       "5.0"
      ]
     },
     "execution_count": 33,
     "metadata": {},
     "output_type": "execute_result"
    }
   ],
   "source": [
    "math.sqrt(25)"
   ]
  },
  {
   "cell_type": "code",
   "execution_count": 38,
   "metadata": {},
   "outputs": [
    {
     "name": "stdout",
     "output_type": "stream",
     "text": [
      "6.4031242374328485\n"
     ]
    }
   ],
   "source": [
    "#wylicenie przekatnej \n",
    "class dlugosc:\n",
    "    def __init__(self,a,b):\n",
    "        self.a = a\n",
    "        self.b = b\n",
    "    def diagonal(self):\n",
    "        przekotna = math.sqrt(self.a**2 + self.b**2)\n",
    "        return przekotna\n",
    "\n",
    "wyliczone = dlugosc(4,5)\n",
    "print(wyliczone.diagonal())\n"
   ]
  },
  {
   "cell_type": "code",
   "execution_count": 39,
   "metadata": {},
   "outputs": [],
   "source": [
    "import datetime"
   ]
  },
  {
   "cell_type": "code",
   "execution_count": 54,
   "metadata": {},
   "outputs": [
    {
     "name": "stdout",
     "output_type": "stream",
     "text": [
      "10\n"
     ]
    }
   ],
   "source": [
    "def days_diff(s,c):\n",
    "    roznica = s - c\n",
    "    return roznica.days\n",
    "print(days_diff(datetime.date(2017,11,11),datetime.date(2017,11,1)))\n",
    "    "
   ]
  },
  {
   "cell_type": "code",
   "execution_count": 69,
   "metadata": {},
   "outputs": [],
   "source": [
    "from datetime import date"
   ]
  },
  {
   "cell_type": "code",
   "execution_count": 78,
   "metadata": {},
   "outputs": [
    {
     "data": {
      "text/plain": [
       "'Poniedzialek'"
      ]
     },
     "execution_count": 78,
     "metadata": {},
     "output_type": "execute_result"
    }
   ],
   "source": [
    "#Napisz funkcj ˛e, która dla zadanej daty zwróci dzie ´n tygodnia - nelży stworzyc słownik lub liste aby bylo sie do czego odwolac\n",
    "def get_day_of_week(b):\n",
    "    dni_tyg = {0: \"Poniedzialek\", 1: \"Wtorek\", 2: \"Środa\", 3: \"Czwartek\", 4: \"Piątek\", 5: \"Sobota\", 6: \"Niedziela\"}\n",
    "    return dni_tyg[b.weekday()]\n",
    "get_day_of_week(date(2017,1,2))\n",
    "\n",
    "    \n",
    "\n",
    "\n",
    "\n",
    "\n"
   ]
  },
  {
   "cell_type": "code",
   "execution_count": null,
   "metadata": {},
   "outputs": [],
   "source": [
    "#Napisz funkcj ˛e, która dla zadanej daty zwróci dat ˛e 7 dni wcze´sniej (hint: skorzystaj z\n",
    "#datetime.timedelta).\n",
    "\n",
    "from datetime import timedelta \n",
    "def get_date_after_week(d):\n",
    "    returtn d+ timedelta(days = -7)\n"
   ]
  }
 ],
 "metadata": {
  "kernelspec": {
   "display_name": "Python [default]",
   "language": "python",
   "name": "python3"
  },
  "language_info": {
   "codemirror_mode": {
    "name": "ipython",
    "version": 3
   },
   "file_extension": ".py",
   "mimetype": "text/x-python",
   "name": "python",
   "nbconvert_exporter": "python",
   "pygments_lexer": "ipython3",
   "version": "3.6.2"
  }
 },
 "nbformat": 4,
 "nbformat_minor": 2
}
